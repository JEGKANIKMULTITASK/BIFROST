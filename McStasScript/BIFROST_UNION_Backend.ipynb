{
 "cells": [
  {
   "cell_type": "markdown",
   "id": "146bd622-7b86-4e32-8afe-1291fe9b77d6",
   "metadata": {},
   "source": [
    "# BIFROST UNION Backend"
   ]
  },
  {
   "cell_type": "code",
   "execution_count": 1,
   "id": "ae6caf9f-88c8-4f94-8232-bdff49d3b483",
   "metadata": {},
   "outputs": [],
   "source": [
    "import mcstasscript as ms\n",
    "import numpy as np\n",
    "import matplotlib.pyplot as plt\n",
    "import pandas as pd\n",
    "from mcstasscript.tools.ncrystal_union import add_ncrystal_union_material\n",
    "\n",
    "#my_configurator = ms.Configurator()\n",
    "#my_configurator.set_mcrun_path(\"/Applications/McStas-3.4.app/Contents/Resources/mcstas/3.4/bin/\")\n",
    "#my_configurator.set_mcstas_path(\"/Applications/McStas-3.4.app/Contents/Resources/mcstas/3.4/\")\n",
    "\n",
    "\"\"\" These line are nessecary in the mcstas test enviroment for the code to compile \"\"\"\n",
    "\n",
    "my_configurator = ms.Configurator()\n",
    "my_configurator.set_mcrun_path(\"/Users/kristinekrighaar/opt/anaconda3/envs/mcstas_test/bin/\")\n",
    "my_configurator.set_mcstas_path(\"/Users/kristinekrighaar/opt/anaconda3/envs/mcstas_test/share/mcstas/resources\")"
   ]
  },
  {
   "cell_type": "markdown",
   "id": "6b19d966-cd43-487b-a987-702a335be758",
   "metadata": {},
   "source": [
    "### Importing all the detector backend information"
   ]
  },
  {
   "cell_type": "code",
   "execution_count": 2,
   "id": "45aefbad-4d62-411f-92ac-0b5f3da9635c",
   "metadata": {},
   "outputs": [],
   "source": [
    "ana = pd.read_csv(r'backend_information_Analyzer_information.csv')\n",
    "ana = ana.replace(',','.', regex=True)\n",
    "ana = ana.astype(float)\n",
    "\n",
    "det = pd.read_csv(r'backend_information_Detector_information.csv')\n",
    "det = det.replace(',','.', regex=True)\n",
    "det = det.astype(float)\n"
   ]
  },
  {
   "cell_type": "markdown",
   "id": "6f77eb34-f84b-4716-966a-89ff8f180bff",
   "metadata": {},
   "source": [
    "## Making the virtual source"
   ]
  },
  {
   "cell_type": "code",
   "execution_count": 3,
   "id": "e23652bc-6610-4a8c-b668-3efee26b837c",
   "metadata": {},
   "outputs": [
    {
     "name": "stdout",
     "output_type": "stream",
     "text": [
      "The following components are found in the work_directory / input_path:\n",
      "     Union_abs_logger_1D_space_event.comp\n",
      "     Phonon_simple.comp\n",
      "These definitions will be used instead of the installed versions.\n"
     ]
    }
   ],
   "source": [
    "bi_end = ms.McStas_instr(\"backend_mockup\", input_path=\"run_folder\", output_path=\"data_folder/bifrost\")\n",
    "\n",
    "##### Setting instrument parameters #####\n",
    "#E0 = bi_end.add_parameter(\"E0\")\n",
    "#dE = bi_end.add_parameter(\"dE\")\n",
    "\n",
    "#E0.value = 7.0\n",
    "#dE.value = 0.5\n",
    "\n",
    "A4 = bi_end.add_parameter(\"A4\", comment=\"Scattering angle from sample\")\n",
    "A4.value = 70 # \n",
    "\n",
    "A3 = bi_end.add_parameter(\"A3\", comment=\"Sample rotation angle\")\n",
    "A3.value = 20 # \n",
    "\n",
    "std_setting = '\"HighFlux_OptimalLamBand.mcpl\"' # bi_end.add_parameter(\"std_setting\", comment=\"Name of .mcpl file for standard setting\")\n",
    "\n",
    "\n",
    "EndOfGuideToSampleLength = 0.58\n",
    "\n",
    "\n"
   ]
  },
  {
   "cell_type": "markdown",
   "id": "72526c05",
   "metadata": {},
   "source": [
    "## Sample Environment"
   ]
  },
  {
   "cell_type": "code",
   "execution_count": 4,
   "id": "1d2e7cf9-5e62-45fb-87b3-1a48da11ecc1",
   "metadata": {},
   "outputs": [],
   "source": [
    "\n",
    "\"\"\"\n",
    "Virtual source for backend, either Source simple or MCPL file (Later to be included)\n",
    "\"\"\"\n",
    "##### Source simple #####\n",
    "#source = bi_end.add_component(\"source\", \"Source_simple\", AT=[0, 0, 0], RELATIVE=\"ABSOLUTE\")\n",
    "#source.set_parameters(radius = 0.5, yheight=0.01, xwidth=0.01, focus_xw=0.005, focus_yh=0.005, dist = EndOfGuideToSampleLength, E0=E0, dE=dE)\n",
    "\n",
    "##### Virtual MCPL source #####\n",
    "\n",
    "virtual_source = bi_end.add_component(\"Vir_source\", \"MCPL_input\", RELATIVE=\"ABSOLUTE\")\n",
    "virtual_source.filename = std_setting\n",
    "\n",
    "\n",
    "sample_pos = bi_end.add_component(\"sample_pos\", \"Arm\", AT=[0, 0, EndOfGuideToSampleLength], ROTATED=[0, 0, 0], RELATIVE=\"ABSOLUTE\")\n",
    "A3_rot = bi_end.add_component(\"A3_rot\", \"Arm\", AT=[0, 0, 0], ROTATED=[0, \"A3\", 0], RELATIVE=\"sample_pos\") # Sample needs to be relative to this arm\n",
    "A4_rot = bi_end.add_component(\"A4_rot\", \"Arm\", AT=[0, 0, 0], ROTATED=[0, \"A4\", 0], RELATIVE=\"sample_pos\") # Detector tank components needs to be relative to this arm\n",
    "\n",
    "\n",
    "\"\"\"\n",
    "Sample enviroment\n",
    "\"\"\"\n",
    "####### Incoherent sample\n",
    "\n",
    "#incoherent_sample = bi_end.add_component(\"Incoherent_sample\", \"Incoherent\", AT=[0,0,0], ROTATED=[0, 0, 0], RELATIVE=\"A3_rot\")\n",
    "#incoherent_sample.radius = 0.0025\n",
    "#incoherent_sample.yheight = 0.005\n",
    "#incoherent_sample.order = 1\n",
    "#incoherent_sample.Etrans = 0.0\n",
    "#incoherent_sample.target_x = \"sin((A4 + 40) * M_PI / 180.0)\"\n",
    "#incoherent_sample.target_z = \"0.58+cos((A4 + 40) * M_PI / 180.0)\"\n",
    "#incoherent_sample.focus_ah = 8\n",
    "#incoherent_sample.focus_aw = 120\n",
    "\n",
    "#arm_check = bi_end.add_component('arm_check', 'Arm', AT=[incoherent_sample.target_x,0,incoherent_sample.target_z])\n",
    "\n",
    "\n",
    "####### Phonon simpel\n",
    "\n",
    "phonon_sample = bi_end.add_component(\"phonon_sample\", \"Phonon_simple\", AT=[0,0,0], ROTATED=[0, 0, 0], RELATIVE=\"A3_rot\")\n",
    "phonon_sample.radius = 0.0025\n",
    "phonon_sample.yheight = 0.005\n",
    "phonon_sample.sigma_abs = 0.171\n",
    "phonon_sample.sigma_inc = 0.003\n",
    "phonon_sample.a = 4.95\n",
    "phonon_sample.b = 9.4\n",
    "phonon_sample.M = 207.2\n",
    "phonon_sample.c = 10.0\n",
    "phonon_sample.DW = 1.0\n",
    "phonon_sample.T = 290.0\n",
    "phonon_sample.target_x = \"sin((A4 + 40) * PI / 180.0)\"\n",
    "phonon_sample.target_z = \"0.58+cos((A4 + 40) * PI / 180.0)\"\n",
    "phonon_sample.focus_ah = 8\n",
    "phonon_sample.focus_aw = 120\n",
    "\n",
    "\n"
   ]
  },
  {
   "cell_type": "code",
   "execution_count": 5,
   "id": "50ab9ba6",
   "metadata": {},
   "outputs": [],
   "source": [
    "#bi_end.component_help('Phonon_simple')\n",
    "\n",
    "#print(A4.value)"
   ]
  },
  {
   "cell_type": "markdown",
   "id": "12fdda3d-3ad5-424a-a47a-a68f030711df",
   "metadata": {},
   "source": [
    "## Defining all the scattering processes needed"
   ]
  },
  {
   "cell_type": "code",
   "execution_count": 6,
   "id": "bdef402d-3e0e-4f44-a40e-fa1e4bb260fa",
   "metadata": {},
   "outputs": [],
   "source": [
    "init = bi_end.add_component(\"init\", \"Union_init\") # This component has to be called init\n",
    "\n",
    "################################### Aluminium #############################\n",
    "\n",
    "Al_inc = bi_end.add_component(\"Al_inc\", \"Incoherent_process\")\n",
    "Al_inc.sigma = 4*0.0082 # 4 atoms per unit cell\n",
    "Al_inc.unit_cell_volume = 66.4\n",
    "\n",
    "Al_pow = bi_end.add_component(\"Al_pow\", \"Powder_process\")\n",
    "Al_pow.reflections = '\"Al.laz\"'\n",
    "\n",
    "Al = bi_end.add_component(\"Al\", \"Union_make_material\")\n",
    "Al.process_string = '\"Al_inc,Al_pow\"'\n",
    "Al.my_absorption = 100*4*0.231/66.4 # barns [m^2 E-28]*Å^3 [m^3 E-30]=[m E-2]\n",
    "\n",
    "##################################### PG ##################################\n",
    "\n",
    "#PG_crystal = bi_end.add_component(\"PG_crystal\", \"NCrystal_process\")\n",
    "#PG_crystal.cfg = \"C_sg194_pyrolytic_graphite.ncmat;mos=20arcmin;dir1=@crys_hkl:0,0,2@lab:1,0,0;dir2=@crys_hkl:9,9,9@lab:9,9,9;dirtol=180deg\"\n",
    "\n",
    "PG_crystal = add_ncrystal_union_material(bi_end, \"PG_crystal\" ,cfgstr=\"C_sg194_pyrolytic_graphite.ncmat;mos=50arcmin;dir1=@crys_hkl:0,0,2@lab:0,0,1;dir2=@crys_hkl:9,9,9@lab:9,9,9;dirtol=180deg;temp=25C\", split=True)\n",
    "\n",
    "\n",
    "##################################### HE3 ##################################\n",
    "\n",
    "\"\"\"\n",
    "All of the He3 calculations in this section is from Mads Bertelsen and the QENS exercise from the DMSC school 2023 wich i attended.\n",
    "\"\"\"\n",
    "\n",
    "def mu_gas(sigma, bars, temperature_C):\n",
    "        pressure_Pa = bars * 1e5\n",
    "        number_density_mol_per_m3 = pressure_Pa / (8.3145 * (temperature_C + 273.15))\n",
    "        number_density_per_m3 = number_density_mol_per_m3 * 6.022e23\n",
    "        number_density_per_A3 = number_density_per_m3 / 1e30\n",
    "        return sigma * number_density_per_A3 * 100\n",
    "\n",
    "He3_pressure_bars = 3\n",
    "He3_temperature_C = 25\n",
    "\n",
    "He3_inc = bi_end.add_component(\"He3_inc\", \"Incoherent_process\")\n",
    "He3_inc.sigma = mu_gas(1.6, bars=He3_pressure_bars, temperature_C=He3_temperature_C)\n",
    "He3_inc.unit_cell_volume = 100\n",
    "\n",
    "He3 = bi_end.add_component(\"He3\", \"Union_make_material\")\n",
    "He3.process_string = '\"He3_inc\"'\n",
    "He3.my_absorption = mu_gas(5333, bars=He3_pressure_bars, temperature_C=He3_temperature_C)\n"
   ]
  },
  {
   "cell_type": "code",
   "execution_count": 7,
   "id": "be06e240",
   "metadata": {},
   "outputs": [],
   "source": [
    "#bi_end.show_components()"
   ]
  },
  {
   "cell_type": "markdown",
   "id": "9ef5a229-bc89-4b72-9147-83ebeafb969c",
   "metadata": {},
   "source": [
    "## Setting up the geometries"
   ]
  },
  {
   "cell_type": "markdown",
   "id": "d5d2f327-6bbc-48da-9105-8f21eeb81e48",
   "metadata": {},
   "source": [
    "### Backend geometry"
   ]
  },
  {
   "cell_type": "code",
   "execution_count": 8,
   "id": "a8d95eba-2665-43ca-8963-dd52c6fdf974",
   "metadata": {},
   "outputs": [],
   "source": [
    "Detector_names = []\n",
    "\n",
    "\n",
    "def make_backend_set(wedge_num, energy, energy_string, priority_offset, ang_offset, wedge_name):\n",
    "    wedge_info = ana[ana[\"wedge_number\"] == wedge_num]\n",
    "    ana_en_info = wedge_info[wedge_info[\"Energy\"] == energy]\n",
    "    arm_info = np.squeeze(ana_en_info[ana_en_info[\"Blade_number\"] == 1].to_numpy())\n",
    "\n",
    "    wedge_info_det = det[det[\"Wedge number\"] == wedge_num]\n",
    "    det_info = np.squeeze(wedge_info_det[wedge_info_det[\"Energy\"] == energy].to_numpy())\n",
    "    \n",
    "    \n",
    "    ana_arm = bi_end.add_component(\"ana_arm_\"+str(wedge_num)+\"_\"+str(energy_string)+\"_\"+str(wedge_name), \"Arm\", AT=[0, 0, arm_info[3]], ROTATED=[0, 0, 0], RELATIVE=\"wedge_arm\"+\"_\"+str(ang_offset))\n",
    "    \n",
    "    for i in range(len(ana_en_info)):\n",
    "        info = np.squeeze(ana_en_info[ana_en_info[\"Blade_number\"] == i+1].to_numpy())\n",
    "        \n",
    "        crystal_name = \"PG_piece_\"+str(wedge_num)+\"_\"+str(energy_string)+\"_\"+str(i)+\"_\"+str(wedge_name)\n",
    "\n",
    "        PG_piece = bi_end.add_component(crystal_name, \"Union_box\", AT=[0, info[8]/1000, info[7]/1000], ROTATED=[-(90-info[9]), 0, 0], RELATIVE=ana_arm)\n",
    "        PG_piece.set_parameters(xwidth=info[5], yheight=info[6], zdepth=0.001, priority=priority_offset+(i+1)/10, material_string='\"PG_crystal\"')\n",
    "\n",
    "        \n",
    "    ########################################### Making the detector section #########################################\n",
    "    \n",
    "    det_arm = bi_end.add_component(\n",
    "        \"det_arm_\"+str(wedge_num)+\"_\"+str(energy_string)+\"_\"+str(wedge_name), \"Arm\",\n",
    "        AT=[0, det_info[3], det_info[2]], ROTATED=[0, 0, 0], RELATIVE=\"wedge_arm\"+\"_\"+str(ang_offset))\n",
    "    \n",
    "    \n",
    "    det_close_outer = bi_end.add_component(\"det_close_outer_\"+str(wedge_num)+\"_\"+str(energy_string)+\"_\"+str(wedge_name), \"Union_cylinder\", AT=[0, np.tan(np.radians(2*info[9]-90))*(2*0.0127+0.001), -(2*0.0127+0.001)], ROTATED=[0,0,90], RELATIVE=\"det_arm_\"+str(wedge_num)+\"_\"+str(energy_string)+\"_\"+str(wedge_name))\n",
    "    det_close_outer.set_parameters(yheight=det_info[4]+0.02, radius=0.0127, priority=priority_offset+0.11, material_string='\"Al\"')\n",
    "    \n",
    "    det_close_He3 = bi_end.add_component(\"det_close_He3_\"+str(wedge_num)+\"_\"+str(energy_string)+\"_\"+str(wedge_name), \"Union_cylinder\", AT=[0, np.tan(np.radians(2*info[9]-90))*(2*0.0127+0.001), -(2*0.0127+0.001)], ROTATED=[0,0,90], RELATIVE=\"det_arm_\"+str(wedge_num)+\"_\"+str(energy_string)+\"_\"+str(wedge_name))\n",
    "    det_close_He3.set_parameters(yheight=det_info[4], radius=0.0127-0.001, priority=priority_offset+0.12, material_string='\"He3\"')\n",
    "\n",
    "    detector_space_close = bi_end.add_component(\"signal_tof_1Dspace_close\"+str(wedge_num)+\"_\"+str(energy_string)+\"_\"+str(wedge_name), \"Union_abs_logger_1D_space_tof\", RELATIVE=\"det_close_He3_\"+str(wedge_num)+\"_\"+str(energy_string)+\"_\"+str(wedge_name))\n",
    "    \n",
    "    detector_space_close.target_geometry = '\"'+\"det_close_He3_\"+str(wedge_num)+\"_\"+str(energy_string)+\"_\"+str(wedge_name)+'\"'\n",
    "    detector_space_close.yheight = det_info[4]#(0.0127-0.001)*2\n",
    "    detector_space_close.n = 100\n",
    "    detector_space_close.time_min = 0.05 # \n",
    "    detector_space_close.time_max = 0.3 # \n",
    "    detector_space_close.time_bins = 1000 # Optimized after having 25 µs time bin resolution\n",
    "    detector_space_close.filename = '\"'+\"signal_1Dspace_\"+str(wedge_name)+\"_\"+str(energy_string)+\"_0.dat\"+'\"'\n",
    "    \n",
    "\n",
    "    \n",
    "    det_mid_outer = bi_end.add_component(\"det_mid_outer_\"+str(wedge_num)+\"_\"+str(energy_string)+\"_\"+str(wedge_name), \"Union_cylinder\", AT=[0, 0, 0], ROTATED=[0,0,90], RELATIVE=\"det_arm_\"+str(wedge_num)+\"_\"+str(energy_string)+\"_\"+str(wedge_name))\n",
    "    det_mid_outer.set_parameters(yheight=det_info[4]+0.02, radius=0.0127, priority=priority_offset+0.14, material_string='\"Al\"')\n",
    "    \n",
    "    det_mid_He3 = bi_end.add_component(\"det_mid_He3_\"+str(wedge_num)+\"_\"+str(energy_string)+\"_\"+str(wedge_name), \"Union_cylinder\", AT=[0, 0, 0], ROTATED=[0,0,90], RELATIVE=\"det_arm_\"+str(wedge_num)+\"_\"+str(energy_string)+\"_\"+str(wedge_name))\n",
    "    det_mid_He3.set_parameters(yheight=det_info[4], radius=0.0127-0.001, priority=priority_offset+0.15, material_string='\"He3\"')\n",
    "    \n",
    "    detector_space_mid = bi_end.add_component(\"signal_tof_1Dspace_mid_\"+str(wedge_num)+\"_\"+str(energy_string)+\"_\"+str(wedge_name), \"Union_abs_logger_1D_space_tof\", RELATIVE=\"det_mid_He3_\"+str(wedge_num)+\"_\"+str(energy_string)+\"_\"+str(wedge_name))\n",
    "    \n",
    "    detector_space_mid.target_geometry = '\"'+\"det_mid_He3_\"+str(wedge_num)+\"_\"+str(energy_string)+\"_\"+str(wedge_name)+'\"'\n",
    "    detector_space_mid.yheight = det_info[4]#(0.0127-0.001)*2\n",
    "    detector_space_mid.n = 100\n",
    "    detector_space_mid.time_min = 0.05 # \n",
    "    detector_space_mid.time_max = 0.3 # \n",
    "    detector_space_mid.time_bins = 1000 # Optimized after having 25 µs time bin resolution\n",
    "    detector_space_mid.filename = '\"'+\"signal_1Dspace_\"+str(wedge_name)+\"_\"+str(energy_string)+\"_1.dat\"+'\"'\n",
    "   \n",
    "    \n",
    "    det_far_outer = bi_end.add_component(\"det_far_outer_\"+str(wedge_num)+\"_\"+str(energy_string)+\"_\"+str(wedge_name), \"Union_cylinder\", AT=[0,-np.tan(np.radians(2*info[9]-90))*(2*0.0127+0.001), (2*0.0127+0.001)], ROTATED=[0,0,90], RELATIVE=\"det_arm_\"+str(wedge_num)+\"_\"+str(energy_string)+\"_\"+str(wedge_name))\n",
    "    det_far_outer.set_parameters(yheight=det_info[4]+0.02, radius=0.0127, priority=priority_offset+0.17, material_string='\"Al\"')\n",
    "    \n",
    "    det_far_He3 = bi_end.add_component(\"det_far_He3_\"+str(wedge_num)+\"_\"+str(energy_string)+\"_\"+str(wedge_name), \"Union_cylinder\", AT=[0, -np.tan(np.radians(2*info[9]-90))*(2*0.0127+0.001), (2*0.0127+0.001)], ROTATED=[0,0,90], RELATIVE=\"det_arm_\"+str(wedge_num)+\"_\"+str(energy_string)+\"_\"+str(wedge_name))\n",
    "    det_far_He3.set_parameters(yheight=det_info[4], radius=0.0127-0.001, priority=priority_offset+0.18, material_string='\"He3\"')\n",
    "    \n",
    "    detector_space_far = bi_end.add_component(\"signal_tof_1Dspace_far_\"+str(wedge_num)+\"_\"+str(energy_string)+\"_\"+str(wedge_name), \"Union_abs_logger_1D_space_tof\", RELATIVE=\"det_far_He3_\"+str(wedge_num)+\"_\"+str(energy_string)+\"_\"+str(wedge_name))\n",
    "    \n",
    "    detector_space_far.target_geometry = '\"'+\"det_far_He3_\"+str(wedge_num)+\"_\"+str(energy_string)+\"_\"+str(wedge_name)+'\"'\n",
    "    detector_space_far.yheight = det_info[4]#(0.0127-0.001)*2\n",
    "    detector_space_far.n = 100\n",
    "    detector_space_far.time_min = 0.05 # \n",
    "    detector_space_far.time_max = 0.3 # \n",
    "    detector_space_far.time_bins = 1000 # Optimized after having 25 µs time bin resolution\n",
    "    detector_space_far.filename = '\"'+\"signal_1Dspace_\"+str(wedge_name)+\"_\"+str(energy_string)+\"_2.dat\"+'\"'\n",
    "\n",
    "\n",
    "    Detector_names.append(\"det_close_He3_\"+str(wedge_num)+\"_\"+str(energy_string)+\"_\"+str(wedge_name))\n",
    "    Detector_names.append(\"det_mid_He3_\"+str(wedge_num)+\"_\"+str(energy_string)+\"_\"+str(wedge_name))\n",
    "    Detector_names.append(\"det_far_He3_\"+str(wedge_num)+\"_\"+str(energy_string)+\"_\"+str(wedge_name))\n",
    "\n",
    "    \n",
    "#print(make_backend_set(1,5.0,\"5p0\",5,0))"
   ]
  },
  {
   "cell_type": "markdown",
   "id": "338a5d9c-a1ac-49df-97cf-f6c363e5fb0b",
   "metadata": {},
   "source": [
    "### Making a wedge"
   ]
  },
  {
   "cell_type": "code",
   "execution_count": 9,
   "id": "98bd2b36-0988-4ad3-8427-1b1962d7d308",
   "metadata": {},
   "outputs": [],
   "source": [
    "\n",
    "\n",
    "def make_a_wedge(wedge_type, priority_offset, ang_offset, wedge_name):\n",
    "    wedge_arm = bi_end.add_component(\"wedge_arm\"+\"_\"+str(ang_offset), \"Arm\", AT=[0, 0, 0], ROTATED=[0, ang_offset, 0], RELATIVE=\"A4_rot\")\n",
    "    for i in range(len(energy)):\n",
    "        make_backend_set(wedge_type, energy[i], energy_string[i], priority_offset+i, ang_offset, wedge_name) # wedge_num, energy, energy_string, priority_offset\n",
    "        \n",
    "    \n",
    "#print(make_a_wedge(1,1,20,1))"
   ]
  },
  {
   "cell_type": "markdown",
   "id": "a1d7af7f-b00b-47f7-b56e-2d5e083caf56",
   "metadata": {},
   "source": [
    "# Build full BIFROST Backend"
   ]
  },
  {
   "cell_type": "code",
   "execution_count": 10,
   "id": "7e0c3015-3395-4176-bdc0-78bdc4cf8327",
   "metadata": {},
   "outputs": [
    {
     "name": "stdout",
     "output_type": "stream",
     "text": [
      "None\n"
     ]
    }
   ],
   "source": [
    "\n",
    "energy = np.array([5.0])#, 3.2, 3.8, 4.4, 5.0])\n",
    "energy_string = np.array([4])#, \"3p2\", \"3p8\", \"4p4\", \"5p0\"]) ARC name\n",
    "\n",
    "ang_offset = np.array([0, 10, 20, 30, 40, 50, 60, 70, 80]) # which angular offsets should each wedge be at (-40, -30, -20, -10, 0, 10, 20, 30, 40)\n",
    "\n",
    "wedge_types = np.array([1, 2, 3, 1, 2, 3, 1, 2, 3]) # What type each wegde should be \n",
    "wedge_names = np.array([0, 1, 2, 3, 4, 5, 6, 7, 8]) # what should be the name of each wedge\n",
    "\n",
    "\n",
    "def Build_BIFROST(wedge_types, ang_offset, wedge_names):\n",
    "    for i in range(len(wedge_types)):\n",
    "        make_a_wedge(wedge_types[i], ang_offset[i], ang_offset[i], wedge_names[i])\n",
    "\n",
    "print(Build_BIFROST(wedge_types, ang_offset, wedge_names))\n"
   ]
  },
  {
   "cell_type": "code",
   "execution_count": null,
   "id": "87b461e9",
   "metadata": {},
   "outputs": [],
   "source": []
  },
  {
   "cell_type": "markdown",
   "id": "4cdced88-bcaa-4f63-89fc-2f7bae856e22",
   "metadata": {},
   "source": [
    "## Adding the loggers"
   ]
  },
  {
   "cell_type": "code",
   "execution_count": 11,
   "id": "11e8b603-d826-4e30-a2e2-ad2b01fe19be",
   "metadata": {},
   "outputs": [],
   "source": [
    "# One 1D, ToF, event logger to rule them all\n",
    "\n",
    "Detector_names = ','.join(Detector_names)\n",
    "\n",
    "Detector_names ='\"'+Detector_names+'\"'\n",
    "\n",
    "#detector_event_far = bi_end.add_component(\"signal_tof_event_all\", \"Union_abs_logger_1D_space_event\", RELATIVE=\"det_close_He3_1_2p7_1\")\n",
    "    \n",
    "#detector_event_far.target_geometry = Detector_names\n",
    "#detector_event_far.yheight = (0.0127-0.001)*2\n",
    "#detector_event_far.n = 100\n",
    "#detector_event_far.filename = '\"detector_signal_event_all\"'\n"
   ]
  },
  {
   "cell_type": "markdown",
   "id": "7eb1df76-d6d5-49ec-8118-831973ac48b3",
   "metadata": {},
   "source": [
    "## Finish off the instrument"
   ]
  },
  {
   "cell_type": "code",
   "execution_count": 12,
   "id": "f01b0af4-ea55-49ea-9acd-387ab443aa47",
   "metadata": {},
   "outputs": [],
   "source": [
    "\n",
    "master = bi_end.add_component(\"master\", \"Union_master\")\n",
    "\n",
    "stop = bi_end.add_component(\"stop\", \"Union_stop\")\n",
    "\n"
   ]
  },
  {
   "cell_type": "markdown",
   "id": "9fceefe8-cb1f-426c-9f1e-a772084d77bd",
   "metadata": {},
   "source": [
    "# Running the instrument simuation"
   ]
  },
  {
   "cell_type": "code",
   "execution_count": null,
   "id": "d6c739fe-dd81-4312-9205-d5c05af88c1a",
   "metadata": {
    "scrolled": true
   },
   "outputs": [],
   "source": [
    "bi_end.set_parameters(A3=60, A4=30)\n",
    "bi_end.settings()  # NeXus=True\n",
    "\n",
    "data = bi_end.backengine();\n"
   ]
  },
  {
   "cell_type": "code",
   "execution_count": null,
   "id": "35e8d583",
   "metadata": {},
   "outputs": [],
   "source": [
    "\n",
    "data"
   ]
  },
  {
   "cell_type": "code",
   "execution_count": null,
   "id": "3323f27c-9d8a-466c-b13f-9a12ed46aa32",
   "metadata": {},
   "outputs": [],
   "source": [
    "\n",
    "ms.make_sub_plot(data)"
   ]
  },
  {
   "cell_type": "code",
   "execution_count": null,
   "id": "1c437d8e",
   "metadata": {},
   "outputs": [],
   "source": []
  }
 ],
 "metadata": {
  "kernelspec": {
   "display_name": "Python 3 (ipykernel)",
   "language": "python",
   "name": "python3"
  },
  "language_info": {
   "codemirror_mode": {
    "name": "ipython",
    "version": 3
   },
   "file_extension": ".py",
   "mimetype": "text/x-python",
   "name": "python",
   "nbconvert_exporter": "python",
   "pygments_lexer": "ipython3",
   "version": "3.10.13"
  }
 },
 "nbformat": 4,
 "nbformat_minor": 5
}
