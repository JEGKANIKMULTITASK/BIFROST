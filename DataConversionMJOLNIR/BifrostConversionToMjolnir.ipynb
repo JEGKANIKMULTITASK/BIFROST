{
 "cells": [
  {
   "cell_type": "markdown",
   "metadata": {},
   "source": [
    "# McStas data to MJOLNIR data format, conversion script for BIFROST\n",
    "\n",
    "by: Kristine M. L. Krighaar\n",
    "\n",
    "created: 18/01/2024"
   ]
  },
  {
   "cell_type": "code",
   "execution_count": 1,
   "metadata": {},
   "outputs": [],
   "source": [
    "from KGS import * # Utilizing my own package for data analysis. Remember to also send enviroment when sharing. \n",
    "import scipp as sc\n",
    "import scippneutron as scn\n",
    "from scippneutron.conversion import graph\n",
    "import os\n",
    "from IPython.display import Image\n",
    "import h5py\n",
    "import sys"
   ]
  },
  {
   "cell_type": "markdown",
   "metadata": {},
   "source": [
    "## Data reduction process\n",
    "\n",
    "Full overview of how converison is done: \n",
    "\n",
    "![conversion_tree](DataReductionToMjolnir.png)"
   ]
  },
  {
   "cell_type": "code",
   "execution_count": null,
   "metadata": {},
   "outputs": [],
   "source": []
  },
  {
   "cell_type": "markdown",
   "metadata": {},
   "source": [
    "### Getting information from BIFROST_McStas_backend_information.csv"
   ]
  },
  {
   "cell_type": "code",
   "execution_count": 2,
   "metadata": {},
   "outputs": [],
   "source": [
    "back_info = pd.read_csv('../BIFROST_Design_Article/Energy_resolution/BIFROST_McStas_backend_information.csv')\n",
    "#back_info = back_info.loc[back_info['wedge_number'] == 1]\n",
    "\n",
    "back_info = np.asarray(back_info)[:,0:5]\n",
    "\n",
    "for j in range(len(back_info)):\n",
    "    back_info[j,3] = back_info[j,3].replace(',','.')\n",
    "    back_info[j,4] = back_info[j,3].replace(',','.')\n",
    "\n",
    "back_info = np.asarray(back_info, dtype=float)    \n",
    "    \n",
    "back_info = back_info[(back_info[:,0]== 2.7)  & (back_info[:,2]== 4) | (back_info[:,0]== 3.2) & (back_info[:,2]== 4)| (back_info[:,0]== 3.8) & (back_info[:,2]== 5) | (back_info[:,0]== 4.4) & (back_info[:,2]== 5) | (back_info[:,0]== 5.0) & (back_info[:,2]== 5)]\n"
   ]
  },
  {
   "cell_type": "markdown",
   "metadata": {},
   "source": [
    "# Define the Tube Measurment object\n",
    "\n",
    "This Object is designed to contain 1 tube mearsurment, in a given (A3, A4) setting,  including data and metadata needed for further reduction. To this object the following information can be assosiated:\n",
    "\n",
    "**Should be defined from:** wedge, arc, tube\n",
    "\n",
    "Data:\n",
    "- I (y, t)\n",
    "- I _err (y,t)\n",
    "\n",
    "Axis:\n",
    "- t_s\n",
    "- y_m\n",
    "- A4\n",
    "\n",
    "Metadata:\n",
    "- A3 (sample rotation)\n",
    "- L_sd (length from detector to sample)\n",
    "- Ef (The Ef for the given analyser)"
   ]
  },
  {
   "cell_type": "code",
   "execution_count": 7,
   "metadata": {},
   "outputs": [],
   "source": [
    "\n",
    "class tube_measurement:\n",
    "    def __init__(self,wedge=0, arc=0, tube=0, I=0, I_err=0, t_s = 0, y_m = 0, A4=0, A3=0, L_sd=0, Ef=0, Delta_E=0, Ei=0, dA4=0, Q=0):\n",
    "        self.wedge = wedge\n",
    "        self.arc = arc\n",
    "        self.tube = tube\n",
    "        self.I = I\n",
    "        self.I_err = I_err\n",
    "        self.t_s = t_s\n",
    "        self.y_m = y_m\n",
    "        self.A3 = A3\n",
    "        self.A4 = A4\n",
    "        self.Delta_E = Delta_E\n",
    "        self.Ei = Ei\n",
    "        self.dA4 = dA4\n",
    "        self.Q = Q\n",
    "        \n",
    "        self.L_sd = L_sd\n",
    "        self.Ef = Ef\n",
    "    \n",
    "        \"\"\" Get L_sd \"\"\"\n",
    "        arc_values = {0: 2.7,1: 3.2,2: 3.8,3: 4.4,4: 5.0}\n",
    "\n",
    "        # Loop through each arc value\n",
    "        for arc, value in arc_values.items():\n",
    "            # Check if the current arc value matches self.arc\n",
    "            if self.arc == arc:\n",
    "                # Filter the corresponding row from back_info\n",
    "                ar = back_info[back_info[:, 0] == value]\n",
    "                \n",
    "                # Determine wedge conditions and calculate self.L_sd accordingly\n",
    "                if self.wedge in (0, 3, 6):\n",
    "                    self.L_sd = ar[0, 3] + ar[0, 4]\n",
    "                elif self.wedge in (1, 4, 7):\n",
    "                    self.L_sd = ar[1, 3] + ar[1, 4]\n",
    "                elif self.wedge in (2, 5, 8):\n",
    "                    self.L_sd = ar[2, 3] + ar[2, 4]\n",
    "                break  # Exit the loop after finding the matching arc value\n",
    "\n",
    "        \"\"\" Get Ef (Think about making the Ef correction based on the dA4 takeoff angle) \"\"\"\n",
    "        if arc == 0:\n",
    "            self.Ef = 2.7\n",
    "        if arc == 1:\n",
    "            self.Ef = 3.2\n",
    "        if arc == 2:\n",
    "            self.Ef = 3.8\n",
    "        if arc == 3:\n",
    "            self.Ef = 4.4\n",
    "        if arc == 4:\n",
    "            self.Ef = 5.0\n",
    "\n",
    "            \n",
    "    def getI(self, filename):\n",
    "        \"\"\"\n",
    "        Loading the data from the \n",
    "        \"\"\"\n",
    "        with h5py.File(filename, 'r') as file:\n",
    "            self.I = file['entry1/data/signal_1Dspace_'+str(self.wedge)+'_'+str(self.arc)+'_'+str(self.tube)+'_dat/data'][()].astype('float')\n",
    "        return self.I\n",
    "    \n",
    "    def getI_err(self, filename):\n",
    "        with h5py.File(filename, 'r') as file:\n",
    "            self.I_err = file['entry1/data/signal_1Dspace_'+str(self.wedge)+'_'+str(self.arc)+'_'+str(self.tube)+'_dat/errors'][()].astype('float')\n",
    "        return self.I_err\n",
    "    \n",
    "    def get_t_s(self, filename):\n",
    "        with h5py.File(filename, 'r') as file:\n",
    "            self.t_s = file['entry1/data/signal_1Dspace_'+str(self.wedge)+'_'+str(self.arc)+'_'+str(self.tube)+'_dat/t__s_'][()]\n",
    "        return self.t_s\n",
    "    \n",
    "    def get_y_m(self, filename):\n",
    "        with h5py.File(filename, 'r') as file:\n",
    "            self.y_m = file['entry1/data/signal_1Dspace_'+str(self.wedge)+'_'+str(self.arc)+'_'+str(self.tube)+'_dat/y__m_'][()]\n",
    "        return self.y_m\n",
    "    \n",
    "    def getA3(self, filename): # Husk at finde rigtig index til A3\n",
    "        with h5py.File(filename, 'r') as file:\n",
    "            A3 = file['entry1/simulation/Param/A3'][()].astype('int64')[0]\n",
    "            self.A3 = A3\n",
    "        return self.A3\n",
    "    \n",
    "    def getA4(self, filename):\n",
    "        \n",
    "        # Get the angular offset from direct beam to first wedge\n",
    "        with h5py.File(filename, 'r') as file:\n",
    "            A4_offset = file['entry1/simulation/Param/A4'][()].astype('int64')[0]\n",
    "            A4_offset = A4_offset\n",
    "\n",
    "        # Get the angular offset from wedge number\n",
    "        wedge_offsets = np.array([0, 10, 20, 30, 40, 50, 60, 70, 80])\n",
    "        wedge_offset = wedge_offsets[self.wedge]\n",
    "            \n",
    "        # Calculate the A4 degrees for each pixel on tube\n",
    "        self.dA4 = np.degrees(np.arctan((self.y_m/self.L_sd)))\n",
    "        \n",
    "        # Add the offset for tank and wedge number\n",
    "        self.A4 = A4_offset + wedge_offset + self.dA4\n",
    "\n",
    "        return self.A4, self.dA4\n",
    "\n",
    "    def calcDE(self):\n",
    "        \n",
    "        # Make correction to each physicals bins Ef (At this step self.Ef has shape (100,))\n",
    "        ideal_lam = 1/(0.11056*np.sqrt(self.Ef))\n",
    "        self.Ef = (9.045/(ideal_lam*np.cos(np.radians(self.dA4))))**2\n",
    "\n",
    "        # Define constants\n",
    "        t = self.t_s # time measured in [s] has shape (N time bins)\n",
    "        Ef_J = self.Ef*1.602176634e-22 # [J]\n",
    "        Li = 162 # [m]\n",
    "        m_n = 1.67492749804e-27 # [kg]\n",
    "\n",
    "        # calculate Delta E for all points I\n",
    "        T, D = np.meshgrid(t, Ef_J)\n",
    "        self.Ei = (Li**2*m_n)/(2*(T-np.sqrt((m_n*self.L_sd**2)/(2*D)))**2)\n",
    "        self.Delta_E = (self.Ei-D)*6.24150907e21 # convert from J to meV\n",
    "        \n",
    "        self.Ei = self.Ei*6.24150907e21 # convert from J to meV\n",
    "\n",
    "        # Make Ef the right shape to have Ef for each I datapoint\n",
    "        self.Ef = self.Ef.reshape(-1,1) \n",
    "        self.Ef = np.tile(self.Ef, (1,len(t)))\n",
    "\n",
    "        return self.Delta_E, self.Ef, self.Ei # has shape (y_m=100, N time bins)\n",
    "    \n",
    "\n",
    "    def calcQ(self):\n",
    "\n",
    "        lam_i = 1/(0.11056*np.sqrt(self.Ei))\n",
    "        ki = (2*np.pi)/lam_i\n",
    "        #print('Shape of ki =', np.shape(ki))\n",
    "        \n",
    "        # Calc kf\n",
    "        lam_f = 1/(0.11056*np.sqrt(self.Ef))\n",
    "        kf =  ((2*np.pi)/lam_f)\n",
    "        #print('Shape of kf =',np.shape(kf))\n",
    "\n",
    "        # Reshape A4 to have A4 for each matrix\n",
    "        A4 = self.A4.reshape(-1,1)\n",
    "        A4 = np.tile(A4, (1,len(ki[0,:])))\n",
    "    \n",
    "        # Calc qx and qy       \n",
    "        qx = ki-kf*np.cos(np.radians(A4))\n",
    "        qy = kf*np.sin(np.radians(A4))\n",
    "\n",
    "        self.Q = np.stack((qx,qy))\n",
    "\n",
    "        return self.Q\n",
    "\n"
   ]
  },
  {
   "cell_type": "markdown",
   "metadata": {},
   "source": [
    "## Importing all tubes for a given A3, A4 setting."
   ]
  },
  {
   "cell_type": "code",
   "execution_count": 4,
   "metadata": {},
   "outputs": [
    {
     "name": "stdout",
     "output_type": "stream",
     "text": [
      "Estimated memory size of a Backend measurment = 1.1484375 kB\n"
     ]
    }
   ],
   "source": [
    "\n",
    "def load_Backend_measurment(filepath):\n",
    "    \"\"\"\n",
    "    \n",
    "    \"\"\"\n",
    "    setting = {}\n",
    "    \n",
    "    for w in range(9):\n",
    "        for t in range(3):\n",
    "            obj = tube_measurement(wedge=w, arc=4, tube=t)\n",
    "\n",
    "            obj.getI(filepath)\n",
    "            obj.getI_err(filepath)\n",
    "\n",
    "            obj.get_t_s(filepath)\n",
    "            obj.get_y_m(filepath)\n",
    "            obj.getA4(filepath)\n",
    "\n",
    "            obj.getA3(filepath)\n",
    "            obj.calcDE()\n",
    "            obj.calcQ()\n",
    "            setting['TM_'+str(w)+'_4_'+str(t)] = obj\n",
    "    \n",
    "    return setting\n",
    "\n",
    "\n",
    "settings = load_Backend_measurment('../McStasScript/run_folder/test3/mccode.hdf5')\n",
    "\n",
    "print('Estimated memory size of a Backend measurment =',sys.getsizeof(settings)/1024, 'kB')\n",
    "\n"
   ]
  },
  {
   "cell_type": "markdown",
   "metadata": {},
   "source": [
    "## Exporting dataformat for MJOLNIR"
   ]
  },
  {
   "cell_type": "code",
   "execution_count": 5,
   "metadata": {},
   "outputs": [
    {
     "data": {
      "image/png": "[encoded data removed]",
      "text/plain": [
       "<Figure size 640x480 with 1 Axes>"
      ]
     },
     "metadata": {},
     "output_type": "display_data"
    }
   ],
   "source": [
    "data_flat = ob.I.flatten()\n",
    "\n",
    "# Create a histogram\n",
    "plt.hist(data_flat[(data_flat>0.1)], bins=300, color='m')  # Adjust the number of bins as needed\n",
    "plt.xlabel('I [a.u]')\n",
    "plt.ylabel('Frequency')\n",
    "plt.title('Histogram of Intensities')\n",
    "plt.grid(True)\n",
    "plt.show()"
   ]
  },
  {
   "cell_type": "markdown",
   "metadata": {},
   "source": [
    "## Organizing datastructure in scipp \n",
    "\n",
    "Datastructure includes lab information"
   ]
  },
  {
   "cell_type": "code",
   "execution_count": 6,
   "metadata": {},
   "outputs": [
    {
     "ename": "NameError",
     "evalue": "name 'data' is not defined",
     "output_type": "error",
     "traceback": [
      "\u001b[0;31m---------------------------------------------------------------------------\u001b[0m",
      "\u001b[0;31mNameError\u001b[0m                                 Traceback (most recent call last)",
      "Cell \u001b[0;32mIn[6], line 4\u001b[0m\n\u001b[1;32m      2\u001b[0m \u001b[38;5;28;01mfor\u001b[39;00m i \u001b[38;5;129;01min\u001b[39;00m \u001b[38;5;28mrange\u001b[39m(\u001b[38;5;241m2\u001b[39m):\n\u001b[1;32m      3\u001b[0m     key \u001b[38;5;241m=\u001b[39m \u001b[38;5;124mf\u001b[39m\u001b[38;5;124m'\u001b[39m\u001b[38;5;124mA3 setting\u001b[39m\u001b[38;5;132;01m{\u001b[39;00mi\u001b[38;5;132;01m}\u001b[39;00m\u001b[38;5;124m'\u001b[39m\n\u001b[0;32m----> 4\u001b[0m     value \u001b[38;5;241m=\u001b[39m sc\u001b[38;5;241m.\u001b[39marray(dims\u001b[38;5;241m=\u001b[39m[\u001b[38;5;124m'\u001b[39m\u001b[38;5;124mtube\u001b[39m\u001b[38;5;124m'\u001b[39m, \u001b[38;5;124m'\u001b[39m\u001b[38;5;124my\u001b[39m\u001b[38;5;124m'\u001b[39m, \u001b[38;5;124m'\u001b[39m\u001b[38;5;124mt\u001b[39m\u001b[38;5;124m'\u001b[39m], values\u001b[38;5;241m=\u001b[39m\u001b[43mdata\u001b[49m[\u001b[38;5;241m0\u001b[39m], variances\u001b[38;5;241m=\u001b[39mdata[\u001b[38;5;241m1\u001b[39m])\n\u001b[1;32m      5\u001b[0m     scipp_dict[key] \u001b[38;5;241m=\u001b[39m value\n\u001b[1;32m      7\u001b[0m \u001b[38;5;28mprint\u001b[39m(scipp_dict)\n",
      "\u001b[0;31mNameError\u001b[0m: name 'data' is not defined"
     ]
    }
   ],
   "source": [
    "scipp_dict = {}\n",
    "for i in range(2):\n",
    "    key = f'A3 setting{i}'\n",
    "    value = sc.array(dims=['tube', 'y', 't'], values=data[0], variances=data[1])\n",
    "    scipp_dict[key] = value\n",
    "\n",
    "print(scipp_dict)"
   ]
  },
  {
   "cell_type": "code",
   "execution_count": null,
   "metadata": {},
   "outputs": [],
   "source": [
    "sim_data = sc.Dataset(\n",
    "    data=scipp_dict, # sc.array(dims=['y', 't', 'tube'], values=I_A3),\n",
    "    coords={\n",
    "        'y': sc.array(dims=['y'], values=data[2], unit='m'),\n",
    "        't': sc.array(dims=['t'], values=data[3], unit='s'),\n",
    "        'L_sd': sc.array(dims=['tube'], values=np.arange(27.0)),\n",
    "        'Ana': sc.array(dims=['tube'], values=np.ones(27)*5),\n",
    "        'wedge': sc.array(dims=['tube'], values=np.arange(27.0)),\n",
    "    },\n",
    ")\n",
    "\n",
    "sc.show(sim_data)\n",
    "sim_data"
   ]
  },
  {
   "cell_type": "markdown",
   "metadata": {},
   "source": [
    "# Constructing the data reduction tree"
   ]
  },
  {
   "cell_type": "code",
   "execution_count": null,
   "metadata": {},
   "outputs": [],
   "source": []
  },
  {
   "cell_type": "code",
   "execution_count": null,
   "metadata": {},
   "outputs": [],
   "source": [
    "def backscattered_l2(position, sample_position, analyzer_position):\n",
    "    \"\"\"\n",
    "    Compute the length of the secondary flight path for backscattering off an analyzer.\n",
    "    \"\"\"\n",
    "    return sc.norm(position - analyzer_position) + sc.norm(\n",
    "        analyzer_position - sample_position\n",
    "    )\n",
    "\n",
    "\n",
    "def wavelength_from_analyzer(analyzer_dspacing, analyzer_angle):\n",
    "    \"\"\"\n",
    "    Compute the neutron wavelength after scattering from the analyzer's d-spacing.\n",
    "\n",
    "    Assuming Bragg scattering in the analyzer, the wavelength is\n",
    "        wavelength = 2 * d * sin(theta)\n",
    "\n",
    "    Where\n",
    "        d is the analyzer's d-spacing,\n",
    "        theta is the scattering angle or equivalently, the tilt of the analyzer\n",
    "              w.r.t. to the sample-analyzer axis.\n",
    "    \"\"\"\n",
    "    # 2*theta is the angle between transmitted and scattered beam.\n",
    "    return (\n",
    "        2\n",
    "        * analyzer_dspacing\n",
    "        * sc.sin(sc.scalar(np.pi / 2, unit=\"rad\") - analyzer_angle.to(unit=\"rad\"))\n",
    "    )"
   ]
  },
  {
   "cell_type": "code",
   "execution_count": null,
   "metadata": {},
   "outputs": [],
   "source": [
    "from scippneutron.conversion.graph.beamline import beamline\n",
    "from scippneutron.conversion.tof import energy_transfer_indirect_from_tof\n",
    "\n",
    "graph = {\n",
    "    **beamline(scatter=True),\n",
    "    \"energy_transfer\": energy_transfer_indirect_from_tof,\n",
    "    # Replace L2 with our own implementation.\n",
    "    \"L2\": backscattered_l2,\n",
    "    # Insert a new function for the wavelength.\n",
    "    \"final_wavelength\": wavelength_from_analyzer,\n",
    "}\n",
    "# Optional: remove unused functions in order to clean up the image below.\n",
    "del graph[\"two_theta\"]\n",
    "del graph[\"scattered_beam\"]\n",
    "del graph[\"Ltotal\"]\n",
    "#sc.show_graph(graph, simplified=True)"
   ]
  },
  {
   "cell_type": "code",
   "execution_count": null,
   "metadata": {},
   "outputs": [],
   "source": []
  },
  {
   "cell_type": "code",
   "execution_count": null,
   "metadata": {},
   "outputs": [],
   "source": []
  }
 ],
 "metadata": {
  "kernelspec": {
   "display_name": "base",
   "language": "python",
   "name": "python3"
  },
  "language_info": {
   "codemirror_mode": {
    "name": "ipython",
    "version": 3
   },
   "file_extension": ".py",
   "mimetype": "text/x-python",
   "name": "python",
   "nbconvert_exporter": "python",
   "pygments_lexer": "ipython3",
   "version": "3.9.18"
  }
 },
 "nbformat": 4,
 "nbformat_minor": 2
}
