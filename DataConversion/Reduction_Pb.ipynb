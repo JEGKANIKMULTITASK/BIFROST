{
 "cells": [
  {
   "cell_type": "code",
   "execution_count": 1,
   "metadata": {},
   "outputs": [],
   "source": [
    "from KGS import * # Utilizing my own package for data analysis. Remember to also send enviroment when sharing. \n",
    "import scipp as sc\n",
    "from IPython.display import Image\n",
    "from TubeMeasurment_mccode import BIFROST_measurement\n",
    "mpl.rcParams['font.size']        = 20"
   ]
  },
  {
   "cell_type": "code",
   "execution_count": 2,
   "metadata": {},
   "outputs": [],
   "source": [
    "#BIFROST_measurement.load_scan('Phonon_Pb_v2_','Pb_phonon_Data_1t_Cluster_corrected',set_Elim=(-0.5,7), Correct=True)"
   ]
  },
  {
   "cell_type": "markdown",
   "metadata": {},
   "source": [
    "## Load the information"
   ]
  },
  {
   "cell_type": "code",
   "execution_count": 3,
   "metadata": {},
   "outputs": [
    {
     "ename": "FileNotFoundError",
     "evalue": "Pb_phonon_Data_1t_Cluster_corrected not found.",
     "output_type": "error",
     "traceback": [
      "\u001b[0;31m---------------------------------------------------------------------------\u001b[0m",
      "\u001b[0;31mFileNotFoundError\u001b[0m                         Traceback (most recent call last)",
      "Cell \u001b[0;32mIn[3], line 1\u001b[0m\n\u001b[0;32m----> 1\u001b[0m settings \u001b[38;5;241m=\u001b[39m \u001b[43mnp\u001b[49m\u001b[38;5;241;43m.\u001b[39;49m\u001b[43mloadtxt\u001b[49m\u001b[43m(\u001b[49m\u001b[38;5;124;43m'\u001b[39;49m\u001b[38;5;124;43mPb_phonon_Data_1t_Cluster_corrected\u001b[39;49m\u001b[38;5;124;43m'\u001b[39;49m\u001b[43m)\u001b[49m\u001b[38;5;241m.\u001b[39mT\n",
      "File \u001b[0;32m~/opt/anaconda3/lib/python3.9/site-packages/numpy/lib/npyio.py:1373\u001b[0m, in \u001b[0;36mloadtxt\u001b[0;34m(fname, dtype, comments, delimiter, converters, skiprows, usecols, unpack, ndmin, encoding, max_rows, quotechar, like)\u001b[0m\n\u001b[1;32m   1370\u001b[0m \u001b[38;5;28;01mif\u001b[39;00m \u001b[38;5;28misinstance\u001b[39m(delimiter, \u001b[38;5;28mbytes\u001b[39m):\n\u001b[1;32m   1371\u001b[0m     delimiter \u001b[38;5;241m=\u001b[39m delimiter\u001b[38;5;241m.\u001b[39mdecode(\u001b[38;5;124m'\u001b[39m\u001b[38;5;124mlatin1\u001b[39m\u001b[38;5;124m'\u001b[39m)\n\u001b[0;32m-> 1373\u001b[0m arr \u001b[38;5;241m=\u001b[39m \u001b[43m_read\u001b[49m\u001b[43m(\u001b[49m\u001b[43mfname\u001b[49m\u001b[43m,\u001b[49m\u001b[43m \u001b[49m\u001b[43mdtype\u001b[49m\u001b[38;5;241;43m=\u001b[39;49m\u001b[43mdtype\u001b[49m\u001b[43m,\u001b[49m\u001b[43m \u001b[49m\u001b[43mcomment\u001b[49m\u001b[38;5;241;43m=\u001b[39;49m\u001b[43mcomment\u001b[49m\u001b[43m,\u001b[49m\u001b[43m \u001b[49m\u001b[43mdelimiter\u001b[49m\u001b[38;5;241;43m=\u001b[39;49m\u001b[43mdelimiter\u001b[49m\u001b[43m,\u001b[49m\n\u001b[1;32m   1374\u001b[0m \u001b[43m            \u001b[49m\u001b[43mconverters\u001b[49m\u001b[38;5;241;43m=\u001b[39;49m\u001b[43mconverters\u001b[49m\u001b[43m,\u001b[49m\u001b[43m \u001b[49m\u001b[43mskiplines\u001b[49m\u001b[38;5;241;43m=\u001b[39;49m\u001b[43mskiprows\u001b[49m\u001b[43m,\u001b[49m\u001b[43m \u001b[49m\u001b[43musecols\u001b[49m\u001b[38;5;241;43m=\u001b[39;49m\u001b[43musecols\u001b[49m\u001b[43m,\u001b[49m\n\u001b[1;32m   1375\u001b[0m \u001b[43m            \u001b[49m\u001b[43munpack\u001b[49m\u001b[38;5;241;43m=\u001b[39;49m\u001b[43munpack\u001b[49m\u001b[43m,\u001b[49m\u001b[43m \u001b[49m\u001b[43mndmin\u001b[49m\u001b[38;5;241;43m=\u001b[39;49m\u001b[43mndmin\u001b[49m\u001b[43m,\u001b[49m\u001b[43m \u001b[49m\u001b[43mencoding\u001b[49m\u001b[38;5;241;43m=\u001b[39;49m\u001b[43mencoding\u001b[49m\u001b[43m,\u001b[49m\n\u001b[1;32m   1376\u001b[0m \u001b[43m            \u001b[49m\u001b[43mmax_rows\u001b[49m\u001b[38;5;241;43m=\u001b[39;49m\u001b[43mmax_rows\u001b[49m\u001b[43m,\u001b[49m\u001b[43m \u001b[49m\u001b[43mquote\u001b[49m\u001b[38;5;241;43m=\u001b[39;49m\u001b[43mquotechar\u001b[49m\u001b[43m)\u001b[49m\n\u001b[1;32m   1378\u001b[0m \u001b[38;5;28;01mreturn\u001b[39;00m arr\n",
      "File \u001b[0;32m~/opt/anaconda3/lib/python3.9/site-packages/numpy/lib/npyio.py:992\u001b[0m, in \u001b[0;36m_read\u001b[0;34m(fname, delimiter, comment, quote, imaginary_unit, usecols, skiplines, max_rows, converters, ndmin, unpack, dtype, encoding)\u001b[0m\n\u001b[1;32m    990\u001b[0m     fname \u001b[38;5;241m=\u001b[39m os\u001b[38;5;241m.\u001b[39mfspath(fname)\n\u001b[1;32m    991\u001b[0m \u001b[38;5;28;01mif\u001b[39;00m \u001b[38;5;28misinstance\u001b[39m(fname, \u001b[38;5;28mstr\u001b[39m):\n\u001b[0;32m--> 992\u001b[0m     fh \u001b[38;5;241m=\u001b[39m \u001b[43mnp\u001b[49m\u001b[38;5;241;43m.\u001b[39;49m\u001b[43mlib\u001b[49m\u001b[38;5;241;43m.\u001b[39;49m\u001b[43m_datasource\u001b[49m\u001b[38;5;241;43m.\u001b[39;49m\u001b[43mopen\u001b[49m\u001b[43m(\u001b[49m\u001b[43mfname\u001b[49m\u001b[43m,\u001b[49m\u001b[43m \u001b[49m\u001b[38;5;124;43m'\u001b[39;49m\u001b[38;5;124;43mrt\u001b[39;49m\u001b[38;5;124;43m'\u001b[39;49m\u001b[43m,\u001b[49m\u001b[43m \u001b[49m\u001b[43mencoding\u001b[49m\u001b[38;5;241;43m=\u001b[39;49m\u001b[43mencoding\u001b[49m\u001b[43m)\u001b[49m\n\u001b[1;32m    993\u001b[0m     \u001b[38;5;28;01mif\u001b[39;00m encoding \u001b[38;5;129;01mis\u001b[39;00m \u001b[38;5;28;01mNone\u001b[39;00m:\n\u001b[1;32m    994\u001b[0m         encoding \u001b[38;5;241m=\u001b[39m \u001b[38;5;28mgetattr\u001b[39m(fh, \u001b[38;5;124m'\u001b[39m\u001b[38;5;124mencoding\u001b[39m\u001b[38;5;124m'\u001b[39m, \u001b[38;5;124m'\u001b[39m\u001b[38;5;124mlatin1\u001b[39m\u001b[38;5;124m'\u001b[39m)\n",
      "File \u001b[0;32m~/opt/anaconda3/lib/python3.9/site-packages/numpy/lib/_datasource.py:193\u001b[0m, in \u001b[0;36mopen\u001b[0;34m(path, mode, destpath, encoding, newline)\u001b[0m\n\u001b[1;32m    156\u001b[0m \u001b[38;5;250m\u001b[39m\u001b[38;5;124;03m\"\"\"\u001b[39;00m\n\u001b[1;32m    157\u001b[0m \u001b[38;5;124;03mOpen `path` with `mode` and return the file object.\u001b[39;00m\n\u001b[1;32m    158\u001b[0m \n\u001b[0;32m   (...)\u001b[0m\n\u001b[1;32m    189\u001b[0m \n\u001b[1;32m    190\u001b[0m \u001b[38;5;124;03m\"\"\"\u001b[39;00m\n\u001b[1;32m    192\u001b[0m ds \u001b[38;5;241m=\u001b[39m DataSource(destpath)\n\u001b[0;32m--> 193\u001b[0m \u001b[38;5;28;01mreturn\u001b[39;00m \u001b[43mds\u001b[49m\u001b[38;5;241;43m.\u001b[39;49m\u001b[43mopen\u001b[49m\u001b[43m(\u001b[49m\u001b[43mpath\u001b[49m\u001b[43m,\u001b[49m\u001b[43m \u001b[49m\u001b[43mmode\u001b[49m\u001b[43m,\u001b[49m\u001b[43m \u001b[49m\u001b[43mencoding\u001b[49m\u001b[38;5;241;43m=\u001b[39;49m\u001b[43mencoding\u001b[49m\u001b[43m,\u001b[49m\u001b[43m \u001b[49m\u001b[43mnewline\u001b[49m\u001b[38;5;241;43m=\u001b[39;49m\u001b[43mnewline\u001b[49m\u001b[43m)\u001b[49m\n",
      "File \u001b[0;32m~/opt/anaconda3/lib/python3.9/site-packages/numpy/lib/_datasource.py:533\u001b[0m, in \u001b[0;36mDataSource.open\u001b[0;34m(self, path, mode, encoding, newline)\u001b[0m\n\u001b[1;32m    530\u001b[0m     \u001b[38;5;28;01mreturn\u001b[39;00m _file_openers[ext](found, mode\u001b[38;5;241m=\u001b[39mmode,\n\u001b[1;32m    531\u001b[0m                               encoding\u001b[38;5;241m=\u001b[39mencoding, newline\u001b[38;5;241m=\u001b[39mnewline)\n\u001b[1;32m    532\u001b[0m \u001b[38;5;28;01melse\u001b[39;00m:\n\u001b[0;32m--> 533\u001b[0m     \u001b[38;5;28;01mraise\u001b[39;00m \u001b[38;5;167;01mFileNotFoundError\u001b[39;00m(\u001b[38;5;124mf\u001b[39m\u001b[38;5;124m\"\u001b[39m\u001b[38;5;132;01m{\u001b[39;00mpath\u001b[38;5;132;01m}\u001b[39;00m\u001b[38;5;124m not found.\u001b[39m\u001b[38;5;124m\"\u001b[39m)\n",
      "\u001b[0;31mFileNotFoundError\u001b[0m: Pb_phonon_Data_1t_Cluster_corrected not found."
     ]
    }
   ],
   "source": [
    "settings = np.loadtxt('Pb_phonon_Data_1t_Cluster_corrected').T"
   ]
  },
  {
   "cell_type": "markdown",
   "metadata": {},
   "source": [
    "## Organize into scipp array"
   ]
  },
  {
   "cell_type": "code",
   "execution_count": null,
   "metadata": {},
   "outputs": [],
   "source": [
    "\n",
    "qx = sc.array(dims=[\"row\"], values=settings[3], unit=\"Å^(-1)\")\n",
    "qy = sc.array(dims=[\"row\"], values=settings[4], unit=\"Å^(-1)\")\n",
    "deltaE = sc.array(dims=[\"row\"], values=settings[2], unit=\"meV\")\n",
    "Q = sc.array(dims=[\"row\"], values=np.sqrt(settings[3]**2+settings[4]**2), unit=\"Å^(-1)\")\n",
    "\n",
    "recording = sc.DataArray(\n",
    "    data=sc.array(dims=[\"row\"], values=settings[0], unit=\"arb. units\", variances=settings[1]**2),  #, variances=settings[1]\n",
    "    coords={\"qx\": qx, \"qy\": qy, \"deltaE\":deltaE, \"Q\":Q}\n",
    ")\n",
    "recording"
   ]
  },
  {
   "cell_type": "code",
   "execution_count": null,
   "metadata": {},
   "outputs": [],
   "source": [
    "sc.show(recording)"
   ]
  },
  {
   "cell_type": "code",
   "execution_count": null,
   "metadata": {},
   "outputs": [],
   "source": [
    "qx_bins = round((max(recording.coords['qx'].values) - min(recording.coords['qx'].values))/0.02)\n",
    "qy_bins = round((max(recording.coords['qy'].values) - min(recording.coords['qy'].values))/0.02)\n",
    "E_bins = round((max(recording.coords['deltaE'].values) - min(recording.coords['deltaE'].values))/0.1)\n",
    "\n",
    "print(qx_bins, qy_bins, E_bins)\n",
    "print(max(recording.coords['qx'].values))"
   ]
  },
  {
   "cell_type": "markdown",
   "metadata": {},
   "source": [
    "## Perform the rebinning"
   ]
  },
  {
   "cell_type": "code",
   "execution_count": null,
   "metadata": {},
   "outputs": [],
   "source": [
    "import scipp as sc\n",
    "\n",
    "\n",
    "da = recording.bin(qx=qx_bins, qy=qy_bins, deltaE=E_bins)\n",
    "sliced = da.bins.mean()\n",
    "#sliced.values[(da.bins.size() == sc.index(0)).values] = np.nan\n",
    "sliced.save_hdf5(filename='Pb_phonon_rebinned.hdf5')\n",
    "\n",
    "sc.show(da)"
   ]
  },
  {
   "cell_type": "code",
   "execution_count": null,
   "metadata": {},
   "outputs": [],
   "source": [
    "#np.savetxt('Phonon_Pb_rebinned_1', matrix, delimiter='\\t', fmt='%f') # pip install pythreejs"
   ]
  },
  {
   "cell_type": "code",
   "execution_count": null,
   "metadata": {},
   "outputs": [],
   "source": [
    "#slicedQ = recording.bin(deltaE=150, Q=200)"
   ]
  },
  {
   "cell_type": "code",
   "execution_count": null,
   "metadata": {},
   "outputs": [],
   "source": [
    "#slicedQ = slicedQ.bins.mean()\n",
    "#slicedQ"
   ]
  },
  {
   "cell_type": "code",
   "execution_count": null,
   "metadata": {},
   "outputs": [],
   "source": [
    "E_min = -2 * sc.Unit('meV')\n",
    "E_max = 10 * sc.Unit('meV')\n",
    "\n",
    "Q_min = 0 * sc.Unit('Å^(-1)')\n",
    "Q_max = 4.5 * sc.Unit('Å^(-1)')\n",
    "\n",
    "#fig, ax = plt.subplots(1, 1, figsize=(6, 4))\n",
    "\n",
    "#p5 = slicedQ['Q',Q_min:Q_max]['deltaE', E_min:E_max].plot(ax=ax, cmap='jet')\n",
    "\n",
    "#ax.set_ylabel(r'$\\Delta E$ [meV]')\n",
    "#ax.set_xlabel(r'$|Q|$ [Å$^{-1}$]')"
   ]
  },
  {
   "cell_type": "code",
   "execution_count": null,
   "metadata": {},
   "outputs": [],
   "source": [
    "#E_layer = 2 * sc.Unit('meV')\n",
    "\n",
    "import matplotlib.colors as colors\n",
    "\n",
    "qx_min = 0 * sc.Unit('Å^(-1)')\n",
    "qx_max = 2 * sc.Unit('Å^(-1)')\n",
    "\n",
    "qy_min = -2 * sc.Unit('Å^(-1)')\n",
    "qy_max = 4.0 * sc.Unit('Å^(-1)')\n",
    "\n",
    "\n",
    "import ipywidgets as ipw\n",
    "import plopp.widgets as pw\n",
    "import plopp as pp\n",
    "import mpld3\n",
    "\n",
    "\n",
    "\n",
    "def update_plot(amp):\n",
    "    E_layer = amp * sc.Unit('meV')\n",
    "    plt.figure(figsize=(6,4))\n",
    "    p1 = sliced['deltaE', E_layer]['qy', qy_min:qy_max].transpose()#.plot(cmap='jet')\n",
    "    im = plt.pcolormesh(p1.coords['qx'].values, p1.coords['qy'].values, p1.values, cmap='jet',  vmin=0, vmax=0.0001) # vmin=0, vmax=3e-5\n",
    "    cbar = plt.colorbar(im)\n",
    "    cbar.set_label('I [a.u.]')\n",
    "    plt.xlim(-2,2)\n",
    "    plt.ylim(0,4)\n",
    "    plt.xlabel('$q_x$ [1/Å]')\n",
    "    plt.ylabel('$q_y$ [1/Å]')\n",
    "    plt.title(f\"$\\Delta E =$ {amp:.2f} meV\")\n",
    "    plt.savefig('Pb_phonon_BIFROST_qxqy_mid.pdf', format='pdf', bbox_inches='tight')\n",
    "    \n",
    "\n",
    "w = ipw.FloatSlider( \n",
    "    value=3.44,\n",
    "    min=min(sliced.coords['deltaE'].values),\n",
    "    max=7.0,\n",
    "    step=(sliced.coords['deltaE'].values[1]-sliced.coords['deltaE'].values[0]),\n",
    "    description=\"Delta_E:\",\n",
    "    disabled=False,\n",
    "    continuous_update=True,\n",
    "    orientation=\"horizontal\",\n",
    "    readout=True,\n",
    "    readout_format=\".2f\",\n",
    ")\n",
    "# Display the slider\n",
    "\n",
    "ipw.interactive(update_plot, amp=w)\n",
    "\n"
   ]
  },
  {
   "cell_type": "code",
   "execution_count": null,
   "metadata": {},
   "outputs": [],
   "source": [
    "# da = recording.bin(qx=120, qy=120, deltaE=40)\n",
    "# sliced = da.bins.sum()\n",
    "# sliced.values[(da.bins.size() == sc.index(0)).values] = np.nan\n",
    "\n",
    "qxE = recording.bin(qx=qx_bins, qy=qy_bins, deltaE=E_bins)\n",
    "sliced_qxE = qxE.bins.mean()\n",
    "#sliced_qxE.values[(qxE.bins.size() == sc.index(0)).values] = np.nan"
   ]
  },
  {
   "cell_type": "markdown",
   "metadata": {},
   "source": [
    "# Sliced along $q_x$"
   ]
  },
  {
   "cell_type": "code",
   "execution_count": null,
   "metadata": {},
   "outputs": [],
   "source": [
    "\n",
    "qx_min = -1 * sc.Unit('Å^(-1)')\n",
    "qx_max = 2 * sc.Unit('Å^(-1)')\n",
    "\n",
    "E_min = -0.05 * sc.Unit('meV')\n",
    "E_max = 7.0 * sc.Unit('meV')\n",
    "\n",
    "\n",
    "def update_plot_qxE(amp):\n",
    "    qy_layer = amp * sc.Unit('Å^(-1)')\n",
    "    plt.figure(figsize=(6,4))\n",
    "    p1 = sliced_qxE['qy', qy_layer]['deltaE', E_min:E_max].transpose()#.plot(cmap='jet')\n",
    "    im = plt.pcolormesh(p1.coords['qx'].values, p1.coords['deltaE'].values, p1.values, cmap='jet', vmin=0, vmax=0.0001) # norm=colors.LogNorm()\n",
    "    cbar = plt.colorbar(im)\n",
    "    cbar.set_label('I [a.u.]')\n",
    "    plt.xlim(-2,2.5)\n",
    "    plt.ylim(0,7)\n",
    "    plt.xlabel('$q_x$ [1/Å]')\n",
    "    plt.ylabel('$\\Delta E$ [meV]')\n",
    "    plt.title(f\"$q_y =$ {amp:.2f} Å$^{-1}$\")\n",
    "    plt.savefig('Pb_phonon_BIFROST_qxE_high.pdf', format='pdf', bbox_inches='tight')\n",
    "    \n",
    "\n",
    "w_qxE = ipw.FloatSlider( \n",
    "    value=2.73,\n",
    "    min=min(sliced_qxE.coords['qy'].values),\n",
    "    max=4,\n",
    "    step=(sliced_qxE.coords['qy'].values[1]-sliced_qxE.coords['qy'].values[0]),\n",
    "    description=\"q_y:\",\n",
    "    disabled=False,\n",
    "    continuous_update=True,\n",
    "    orientation=\"horizontal\",\n",
    "    readout=True,\n",
    "    readout_format=\".2f\",\n",
    ")\n",
    "# Display the slider\n",
    "\n",
    "\n",
    "\n",
    "ipw.interactive(update_plot_qxE, amp=w_qxE)\n"
   ]
  },
  {
   "cell_type": "markdown",
   "metadata": {},
   "source": [
    "## Cut integrating energy - x-axis $q_x$"
   ]
  },
  {
   "cell_type": "code",
   "execution_count": null,
   "metadata": {},
   "outputs": [],
   "source": [
    "mpl.rcParams['font.size']        = 15\n",
    "\n",
    "c1_qy_min = 2.53 * sc.Unit('Å^(-1)')\n",
    "\n",
    "c1_Emin = 1.8 * sc.Unit('meV')\n",
    "c1_Emax = 2.2 * sc.Unit('meV')\n",
    "\n",
    "c1_qxmin = -0.5 * sc.Unit('Å^(-1)')\n",
    "c1_qxmax = 0.5 * sc.Unit('Å^(-1)')\n",
    "\n",
    "\n",
    "c1 = sliced_qxE['qy', c1_qy_min]['qx',c1_qxmin:c1_qxmax]['deltaE', c1_Emin:c1_Emax]\n",
    "c1 = sc.sum(c1, dim='deltaE')\n",
    "\n",
    "qx_c1 = c1.coords['qx'].values\n",
    "qx_c1 = (qx_c1[:-1] + qx_c1[1:]) / 2.0\n",
    "\n",
    "E_c1_guess = {'A1':0.0002, 'mu1':-0.2, 'sigma1': 0.01,\n",
    "                 'A2': 0.0002, 'mu2':0.2, 'sigma2': 0.01,}\n",
    "E_c1_limit = {'A2': (0.0001,0.0003), 'mu2':(0.1,0.3)}\n",
    "\n",
    "Ecut_fit1 = fit(qx_c1, c1.values, np.sqrt(c1.variances), gaussN, E_c1_guess, limits=E_c1_limit)\n",
    "\n",
    "Ecut_fit1.hesse()\n"
   ]
  },
  {
   "cell_type": "markdown",
   "metadata": {},
   "source": [
    "## Cuts integrating qx - x-axis energy"
   ]
  },
  {
   "cell_type": "code",
   "execution_count": null,
   "metadata": {},
   "outputs": [],
   "source": [
    "c2_qy_min = 2.53 * sc.Unit('Å^(-1)')\n",
    "\n",
    "c2_Emin = 1.0 * sc.Unit('meV')\n",
    "c2_Emax = 3.0 * sc.Unit('meV')\n",
    "\n",
    "c2_qxmin = 0.2 * sc.Unit('Å^(-1)')\n",
    "#c2_qxmax = 0.23 * sc.Unit('Å^(-1)')\n",
    "\n",
    "\n",
    "c2 = sliced_qxE['qy', c2_qy_min]['qx',c2_qxmin]['deltaE', c2_Emin:c2_Emax]\n",
    "#c2 = sc.sum(c2, dim='qx')\n",
    "\n",
    "qx_c2 = c2.coords['deltaE'].values\n",
    "qx_c2 = (qx_c2[:-1] + qx_c2[1:]) / 2.0\n",
    "\n",
    "c2\n",
    "E_c2_guess = {'A1':0.00005, 'mu1':0.2, 'sigma1': 1,}\n",
    "E_c2_limit = {'A2': (0.0001,0.0003), 'mu2':(0.1,0.3)}\n",
    "\n",
    "Ecut_fit2 = fit(qx_c2, c2.values, np.sqrt(c2.variances), gaussN, E_c2_guess)\n",
    "\n",
    "Ecut_fit2.hesse()"
   ]
  },
  {
   "cell_type": "code",
   "execution_count": null,
   "metadata": {},
   "outputs": [],
   "source": [
    "c3_qy_min = 2.53 * sc.Unit('Å^(-1)')\n",
    "\n",
    "c3_Emin = 1.0 * sc.Unit('meV')\n",
    "c3_Emax = 3.0 * sc.Unit('meV')\n",
    "\n",
    "c3_qxmin = -0.2 * sc.Unit('Å^(-1)')\n",
    "#c3_qxmax = -0.18 * sc.Unit('Å^(-1)')\n",
    "\n",
    "\n",
    "c3 = sliced_qxE['qy', c3_qy_min]['qx',c3_qxmin]['deltaE', c3_Emin:c3_Emax]\n",
    "#c3 = sc.sum(c3, dim='qx')\n",
    "\n",
    "qx_c3 = c3.coords['deltaE'].values\n",
    "qx_c3 = (qx_c3[:-1] + qx_c3[1:]) / 2.0\n",
    "c3\n",
    "E_c3_guess = {'A1':0.00005, 'mu1':2, 'sigma1': 0.2,}\n",
    "E_c3_limit = {'A1': (0.00001,0.0003), 'mu1':(1,3)}\n",
    "\n",
    "Ecut_fit3 = fit(qx_c3, c3.values, np.sqrt(c3.variances), gaussN, E_c3_guess, limits=E_c3_limit)\n",
    "\n",
    "Ecut_fit3.hesse()\n",
    "c3"
   ]
  },
  {
   "cell_type": "markdown",
   "metadata": {},
   "source": [
    "## Plot "
   ]
  },
  {
   "cell_type": "code",
   "execution_count": null,
   "metadata": {},
   "outputs": [],
   "source": [
    "qx_range = np.linspace(min(qx_c1), max(qx_c1), 1000)\n",
    "E_range = np.linspace(min(qx_c2), max(qx_c2), 1000)\n",
    "\n",
    "fig, ax = plt.subplots(1,3, figsize=(13,3), sharey=True)\n",
    "fig.subplots_adjust(wspace=0.05)\n",
    "\n",
    "ax[0].errorbar(qx_c3, c3.values, np.sqrt(c3.variances), fmt='.', label='Data', color='#7570b3')\n",
    "ax[0].plot(E_range, gaussN(E_range, *Ecut_fit3.values), color='#7570b3')\n",
    "ax[0].set_title(r'$q_y$: [2.53:2.55] - $qx$: [-0.21 : -0.19]')\n",
    "ax[0].set_xlabel(r'$\\Delta E$ [meV]')\n",
    "ax[0].set_ylabel('I [a.u.]')\n",
    "ax[0].grid()\n",
    "\n",
    "ax[1].errorbar(qx_c1, c1.values, np.sqrt(c1.variances), fmt='.', label='Data', color='#1b9e77')\n",
    "ax[1].plot(qx_range, gaussN(qx_range, *Ecut_fit1.values), color='#1b9e77')\n",
    "ax[1].set_title(r'$q_y$: [2.53:2.55] - $\\Delta E$: [1.9 : 2.1]')\n",
    "ax[1].set_xlabel(r'$q_x$ [Å$^{-1}$]')\n",
    "ax[1].grid()\n",
    "#\n",
    "ax[2].errorbar(qx_c2, c2.values, np.sqrt(c2.variances), fmt='.', label='Data', color='#d95f02')\n",
    "ax[2].plot(E_range, gaussN(E_range, *Ecut_fit2.values), color='#d95f02')\n",
    "ax[2].set_title(r'$q_y$: [2.53:2.55] - $q_x$: [0.19 : 0.21]')\n",
    "ax[2].set_xlabel(r'$\\Delta E$ [meV]')\n",
    "ax[2].grid()\n",
    "plt.savefig('qx_cuts.pdf', format='pdf', bbox_inches='tight')\n"
   ]
  },
  {
   "cell_type": "markdown",
   "metadata": {},
   "source": [
    "# Sliced along $q_y$"
   ]
  },
  {
   "cell_type": "code",
   "execution_count": null,
   "metadata": {},
   "outputs": [],
   "source": [
    "\n",
    "qy_min = -1 * sc.Unit('Å^(-1)')\n",
    "qy_max = 2 * sc.Unit('Å^(-1)')\n",
    "\n",
    "E_min = -0.05 * sc.Unit('meV')\n",
    "E_max = 7.0 * sc.Unit('meV')\n",
    "\n",
    "\n",
    "def update_plot_qyE(amp):\n",
    "    qx_layer = amp * sc.Unit('Å^(-1)')\n",
    "    plt.figure(figsize=(6,4))\n",
    "    p1 = sliced_qxE['qx', qx_layer]['deltaE', E_min:E_max].transpose()#.plot(cmap='jet')\n",
    "    im = plt.pcolormesh(p1.coords['qy'].values, p1.coords['deltaE'].values, p1.values, cmap='jet', vmin=0, vmax=0.0001)\n",
    "    cbar = plt.colorbar(im)\n",
    "    cbar.set_label('I [a.u.]')\n",
    "    plt.xlim(1.5,4)\n",
    "    plt.ylim(0,7)\n",
    "    plt.xlabel('$q_y$ [1/Å]')\n",
    "    plt.ylabel('$\\Delta E$ [meV]')\n",
    "    plt.title(f\"$q_x =$ {amp:.2f} Å$^{-1}$\")\n",
    "    plt.savefig('Pb_phonon_BIFROST_qyE_low.pdf', format='pdf', bbox_inches='tight')\n",
    "    \n",
    "\n",
    "w_qyE = ipw.FloatSlider( \n",
    "    value=0.17,\n",
    "    min=min(sliced_qxE.coords['qx'].values),\n",
    "    max=4,\n",
    "    step=(sliced_qxE.coords['qx'].values[1]-sliced_qxE.coords['qx'].values[0]),\n",
    "    description=\"q_x:\",\n",
    "    disabled=False,\n",
    "    continuous_update=True,\n",
    "    orientation=\"horizontal\",\n",
    "    readout=True,\n",
    "    readout_format=\".2f\",\n",
    ")\n",
    "# Display the slider\n",
    "\n",
    "\n",
    "ipw.interactive(update_plot_qyE, amp=w_qyE)"
   ]
  },
  {
   "cell_type": "markdown",
   "metadata": {},
   "source": [
    "## Cuts integrating $q_y$ "
   ]
  },
  {
   "cell_type": "code",
   "execution_count": null,
   "metadata": {},
   "outputs": [],
   "source": [
    "c4_qx= 0 * sc.Unit('Å^(-1)')\n",
    "\n",
    "c4_Emin = 1.8 * sc.Unit('meV')\n",
    "c4_Emax = 2.2 * sc.Unit('meV')\n",
    "\n",
    "c4_qymin = 2 * sc.Unit('Å^(-1)')\n",
    "c4_qymax = 3 * sc.Unit('Å^(-1)')\n",
    "\n",
    "\n",
    "c4 = sliced_qxE['qx', c4_qx]['qy',c4_qymin:c4_qymax]['deltaE', c4_Emin:c4_Emax]\n",
    "c4 = sc.sum(c4, dim='deltaE')\n",
    "\n",
    "qy_c4 = c4.coords['qy'].values\n",
    "qy_c4 = (qy_c4[:-1] + qy_c4[1:]) / 2.0\n",
    "\n",
    "E_c4_guess = {'A1':0.0002, 'mu1':2.33, 'sigma1': 0.01,\n",
    "                 'A2': 0.0002, 'mu2':2.73, 'sigma2': 0.01,}\n",
    "E_c4_limit = {'A2': (0.0001,0.0004)}\n",
    "\n",
    "Ecut_fit4 = fit(qy_c4, c4.values, np.sqrt(c4.variances), gaussN, E_c4_guess, limits=E_c4_limit)\n",
    "\n",
    "Ecut_fit4.hesse()"
   ]
  },
  {
   "cell_type": "code",
   "execution_count": null,
   "metadata": {},
   "outputs": [],
   "source": [
    "qx_layer = 0 * sc.Unit('Å^(-1)')\n",
    "\n",
    "c5_qymin = 2.33 * sc.Unit('Å^(-1)')\n",
    "#c5_qymax = 2.36 * sc.Unit('Å^(-1)')\n",
    "\n",
    "c5_Emin = 1 * sc.Unit('meV')\n",
    "c5_Emax = 3 * sc.Unit('meV')\n",
    "\n",
    "c5 = sliced_qxE['qx', qx_layer]['qy',c5_qymin]['deltaE', c5_Emin:c5_Emax]\n",
    "#c5 = sc.sum(c5, dim='qy')\n",
    "\n",
    "qy_c5 = c5.coords['deltaE'].values\n",
    "qy_c5 = (qy_c5[:-1] + qy_c5[1:]) / 2.0\n",
    "\n",
    "E_c5_guess = {'A1':0.00005, 'mu1':2, 'sigma1': 0.2,}\n",
    "E_c5_limit = {'A1': (0.00001,0.0003), 'mu1':(1,3)}\n",
    "\n",
    "Ecut_fit5 = fit(qy_c5, c5.values, np.sqrt(c5.variances), gaussN, E_c5_guess, limits=E_c5_limit)\n",
    "\n",
    "Ecut_fit5.hesse()\n"
   ]
  },
  {
   "cell_type": "code",
   "execution_count": null,
   "metadata": {},
   "outputs": [],
   "source": [
    "c6_qymin = 2.73 * sc.Unit('Å^(-1)')\n",
    "#c6_qymax = 2.76 * sc.Unit('Å^(-1)')\n",
    "\n",
    "c6_Emin = 1 * sc.Unit('meV')\n",
    "c6_Emax = 3 * sc.Unit('meV')\n",
    "\n",
    "c6 = sliced_qxE['qx', qx_layer]['qy',c6_qymin]['deltaE', c6_Emin:c6_Emax]\n",
    "#c6 = sc.sum(c6, dim='qy')\n",
    "\n",
    "qy_c6 = c6.coords['deltaE'].values\n",
    "qy_c6 = (qy_c6[:-1] + qy_c6[1:]) / 2.0\n",
    "\n",
    "E_c6_guess = {'A1':0.00005, 'mu1':2, 'sigma1': 0.2,}\n",
    "E_c6_limit = {'A1': (0.00001,0.0003), 'mu1':(1,3)}\n",
    "\n",
    "Ecut_fit6 = fit(qy_c6, c6.values, np.sqrt(c6.variances), gaussN, E_c6_guess, limits=E_c6_limit)\n",
    "\n",
    "Ecut_fit6.hesse()\n",
    "\n",
    "c5\n"
   ]
  },
  {
   "cell_type": "code",
   "execution_count": null,
   "metadata": {},
   "outputs": [],
   "source": [
    "q_range2 = np.linspace(min(qy_c4), max(qy_c4),1000)\n",
    "E_range2 = np.linspace(min(qy_c6), max(qy_c6),1000)\n",
    "\n",
    "fig, ax = plt.subplots(1,3, figsize=(13,3), sharey=True)\n",
    "fig.subplots_adjust(wspace=0.05)\n",
    "\n",
    "ax[0].errorbar(qy_c5, c5.values, np.sqrt(c5.variances), fmt='.', label='Data', color='#e7298a')\n",
    "ax[0].plot(E_range2, gaussN(E_range2, *Ecut_fit5.values), color='#e7298a')\n",
    "ax[0].set_title(r'$q_x$: [-0.01 : 0.01] - $q_y$: [2.33 :2.35]')\n",
    "ax[0].set_xlabel(r'$\\Delta E$ [meV]')\n",
    "ax[0].set_ylabel('I [a.u.]')\n",
    "ax[0].grid()\n",
    "\n",
    "ax[1].errorbar(qy_c4, c4.values, np.sqrt(c4.variances), fmt='.', label='Data', color='red')\n",
    "ax[1].plot(q_range2, gaussN(q_range2, *Ecut_fit4.values), color='red')\n",
    "ax[1].set_title(r'$q_x$: [-0.01 : 0.01] - $\\Delta E$: [1.8 : 2.2]')\n",
    "ax[1].set_xlabel(r'$q_y$ [Å$^{-1}$]')\n",
    "ax[1].grid()\n",
    "\n",
    "ax[2].errorbar(qy_c6, c6.values, np.sqrt(c6.variances), fmt='.', label='Data', color='cyan')\n",
    "ax[2].plot(E_range2, gaussN(E_range2, *Ecut_fit6.values), color='cyan')\n",
    "ax[2].set_title(r'$q_x$: [-0.01 : 0.01] - $q_y$: [2.72 : 2.74]')\n",
    "ax[2].set_xlabel(r'$\\Delta E$ [meV]')\n",
    "ax[2].grid()\n",
    "\n",
    "plt.savefig('qy_cuts.pdf', format='pdf', bbox_inches='tight')"
   ]
  },
  {
   "cell_type": "code",
   "execution_count": null,
   "metadata": {},
   "outputs": [],
   "source": [
    "from matplotlib.patches import Polygon\n",
    "\n",
    "E_layer = 2.0 * sc.Unit('meV')\n",
    "fig, ax = plt.subplots(1,1,figsize=(6,4))\n",
    "p1 = sliced['deltaE', E_layer]['qy', qy_min:qy_max].transpose()#.plot(cmap='jet')\n",
    "im = ax.pcolormesh(p1.coords['qx'].values, p1.coords['qy'].values, p1.values, cmap='jet',  vmin=0, vmax=0.0001) # vmin=0, vmax=3e-5\n",
    "cbar = plt.colorbar(im)\n",
    "cbar.set_label('I [a.u.]')\n",
    "ax.set_xlim(-0.3,0.3)\n",
    "ax.set_ylim(2.2,2.8)\n",
    "ax.set_xlabel('$q_x$ [1/Å]')\n",
    "ax.set_ylabel('$q_y$ [1/Å]')\n",
    "ax.set_title(f\"$\\Delta E =$ 2.0 meV\")\n",
    "vertices2 = [(-0.01, 2.33), (0.01, 2.33), (0.01, 2.35),(-0.01, 2.35)]\n",
    "parallelogram2 = Polygon(vertices2, closed=True, edgecolor='#e7298a', facecolor='none')\n",
    "ax.add_patch(parallelogram2)\n",
    "\n",
    "vertices3 = [(-0.01, 2.73), (0.01, 2.73), (0.01, 2.75),(-0.01, 2.75)]\n",
    "parallelogram3 = Polygon(vertices3, closed=True, edgecolor='cyan', facecolor='none')\n",
    "ax.add_patch(parallelogram3)\n",
    "\n",
    "vertices4 = [(-0.21, 2.53), (-0.19, 2.53), (-0.19, 2.55),(-0.21, 2.55)]\n",
    "parallelogram4 = Polygon(vertices4, closed=True, edgecolor='#7570b3', facecolor='none')\n",
    "ax.add_patch(parallelogram4)\n",
    "\n",
    "vertices5 = [(0.21, 2.53), (0.19, 2.53), (0.19, 2.55),(0.21, 2.55)]\n",
    "parallelogram5 = Polygon(vertices5, closed=True, edgecolor='#d95f02', facecolor='none')\n",
    "ax.add_patch(parallelogram5)\n",
    "\n",
    "plt.savefig('Pb_phonon_BIFROST_qxqy_low.pdf', format='pdf', bbox_inches='tight')"
   ]
  },
  {
   "cell_type": "code",
   "execution_count": null,
   "metadata": {},
   "outputs": [],
   "source": [
    "qy_layer = 2.53 * sc.Unit('Å^(-1)')\n",
    "fig, ax = plt.subplots(1,1,figsize=(6,4))\n",
    "p1 = sliced_qxE['qy', qy_layer]['deltaE', E_min:E_max].transpose()#.plot(cmap='jet')\n",
    "im = ax.pcolormesh(p1.coords['qx'].values, p1.coords['deltaE'].values, p1.values, cmap='jet', vmin=0, vmax=0.0001) # norm=colors.LogNorm()\n",
    "cbar = plt.colorbar(im)\n",
    "cbar.set_label('I [a.u.]')\n",
    "ax.set_xlim(-2,2.5)\n",
    "ax.set_ylim(0,7)\n",
    "ax.set_xlabel('$q_x$ [1/Å]')\n",
    "ax.set_ylabel('$\\Delta E$ [meV]')\n",
    "ax.set_title(f\"$q_y =$ 2.53 Å$^{-1}$\")\n",
    "\n",
    "vertices5 = [(-0.21, 1), (-0.19, 1), (-0.19, 3),(-0.21, 3)]\n",
    "parallelogram5 = Polygon(vertices5, closed=True, edgecolor='#7570b3', facecolor='none')\n",
    "ax.add_patch(parallelogram5)\n",
    "\n",
    "vertices6 = [(0.21, 1), (0.19, 1), (0.19, 3),(0.21, 3)]\n",
    "parallelogram6 = Polygon(vertices6, closed=True, edgecolor='#d95f02', facecolor='none')\n",
    "ax.add_patch(parallelogram6)\n",
    "\n",
    "vertices6 = [(0.5, 1.8), (-0.5, 1.8), (-0.5, 2.2),(0.5, 2.2)]\n",
    "parallelogram6 = Polygon(vertices6, closed=True, edgecolor='#1b9e77', facecolor='none')\n",
    "ax.add_patch(parallelogram6)\n",
    "\n",
    "plt.savefig('Pb_phonon_BIFROST_qxE_mid.pdf', format='pdf', bbox_inches='tight')"
   ]
  },
  {
   "cell_type": "code",
   "execution_count": null,
   "metadata": {},
   "outputs": [],
   "source": [
    "qx_layer = 0 * sc.Unit('Å^(-1)')\n",
    "fig, ax = plt.subplots(1,1,figsize=(6,4))\n",
    "p1 = sliced_qxE['qx', qx_layer]['deltaE', E_min:E_max].transpose()#.plot(cmap='jet')\n",
    "im = ax.pcolormesh(p1.coords['qy'].values, p1.coords['deltaE'].values, p1.values, cmap='jet', vmin=0, vmax=0.0001)\n",
    "cbar = plt.colorbar(im)\n",
    "cbar.set_label('I [a.u.]')\n",
    "ax.set_xlim(1.5,4)\n",
    "ax.set_ylim(0,7)\n",
    "ax.set_xlabel('$q_y$ [1/Å]')\n",
    "ax.set_ylabel('$\\Delta E$ [meV]')\n",
    "ax.set_title(f\"$q_x =$ 0 Å$^{-1}$\")\n",
    "\n",
    "vertices5 = [(2.33, 1), (2.35, 1), (2.35, 3),(2.33, 3)]\n",
    "parallelogram5 = Polygon(vertices5, closed=True, edgecolor='#e7298a', facecolor='none')\n",
    "ax.add_patch(parallelogram5)\n",
    "\n",
    "vertices6 = [(2.72, 1), (2.74, 1), (2.74, 3),(2.72, 3)]\n",
    "parallelogram6 = Polygon(vertices6, closed=True, edgecolor='cyan', facecolor='none')\n",
    "ax.add_patch(parallelogram6)\n",
    "\n",
    "vertices6 = [(3, 1.8), (2, 1.8), (2, 2.2),(3, 2.2)]\n",
    "parallelogram6 = Polygon(vertices6, closed=True, edgecolor='red', facecolor='none')\n",
    "ax.add_patch(parallelogram6)\n",
    "\n",
    "plt.savefig('Pb_phonon_BIFROST_qyE_mid.pdf', format='pdf', bbox_inches='tight')"
   ]
  },
  {
   "cell_type": "markdown",
   "metadata": {},
   "source": [
    "# Fitting phonon in (h,k)"
   ]
  },
  {
   "cell_type": "code",
   "execution_count": null,
   "metadata": {},
   "outputs": [],
   "source": [
    "def to_h(qx):\n",
    "    return qx / (2 * np.pi)\n",
    "\n",
    "def to_k(qy):\n",
    "    return qy / (2 * np.pi)\n",
    "\n",
    "graph = {'h': to_h}\n",
    "graph2 = {'k': to_k}\n",
    "\n",
    "transformed = sliced.transform_coords(['h'], graph=graph)\n",
    "transformed2 = transformed.transform_coords(['k'], graph=graph2)"
   ]
  },
  {
   "cell_type": "markdown",
   "metadata": {},
   "source": [
    "## Making slices"
   ]
  },
  {
   "cell_type": "code",
   "execution_count": null,
   "metadata": {},
   "outputs": [],
   "source": [
    "p1 = sliced_qxE['qy', qy_layer]['deltaE', E_min:E_max].transpose()\n",
    "p1"
   ]
  },
  {
   "cell_type": "code",
   "execution_count": null,
   "metadata": {},
   "outputs": [],
   "source": []
  },
  {
   "cell_type": "code",
   "execution_count": null,
   "metadata": {},
   "outputs": [],
   "source": []
  },
  {
   "cell_type": "code",
   "execution_count": null,
   "metadata": {},
   "outputs": [],
   "source": []
  }
 ],
 "metadata": {
  "kernelspec": {
   "display_name": "Python 3 (ipykernel)",
   "language": "python",
   "name": "python3"
  },
  "language_info": {
   "codemirror_mode": {
    "name": "ipython",
    "version": 3
   },
   "file_extension": ".py",
   "mimetype": "text/x-python",
   "name": "python",
   "nbconvert_exporter": "python",
   "pygments_lexer": "ipython3",
   "version": "3.9.18"
  }
 },
 "nbformat": 4,
 "nbformat_minor": 4
}
