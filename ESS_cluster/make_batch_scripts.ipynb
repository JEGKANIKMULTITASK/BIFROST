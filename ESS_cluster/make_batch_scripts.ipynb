{
 "cells": [
  {
   "cell_type": "markdown",
   "metadata": {},
   "source": [
    "# Make .batch files for the culster\n",
    "by: Kristine M. L. Krighaar\n"
   ]
  },
  {
   "cell_type": "code",
   "execution_count": 1,
   "metadata": {},
   "outputs": [],
   "source": [
    "import os\n",
    "import numpy as np\n",
    "\n",
    "def write_batch_file(folder, filename_prefix, value1, value2):\n",
    "    # Construct the file path\n",
    "    value2 = str(value2).replace(\".\", \"p\")\n",
    "    file_path = os.path.join(folder, f\"{filename_prefix}_{value1}_{value2}.batch\")\n",
    "    \n",
    "\n",
    "    # Write the batch file content\n",
    "    with open(file_path, 'w') as file:\n",
    "        file.write(f'#!/bin/bash\\n')\n",
    "        file.write(f'\\n')\n",
    "        file.write(f'#SBATCH --job-name=BIFROST_{filename_prefix}_{value1}_{value2}\\n')\n",
    "        file.write(f'#SBATCH --error=err_BIFROST_{filename_prefix}_{value1}_{value2}.stderr\\n')\n",
    "        file.write(f'#SBATCH --output=out_BIFROST_{filename_prefix}_{value1}_{value2}.stdout\\n')\n",
    "        file.write(f'#SBATCH --nodes 1-1\\n')\n",
    "        file.write(f'#SBATCH --partition quark\\n')\n",
    "        file.write(f'#SBATCH --time=23:59:00\\n')\n",
    "        file.write(f'# the --exclusive is needed when running OpenMPI\\n')\n",
    "        file.write(f'# it will allocate 1x12 core per node\\n')\n",
    "        file.write(f'#SBATCH --exclusive\\n')\n",
    "        file.write(f'\\n')\n",
    "        file.write(f'NUMCORES=`echo \"$SLURM_NNODES 56 * p \"| dc`\\n')\n",
    "        file.write(f'\\n')\n",
    "        file.write(f'source /etc/profile.d/modules.sh\\n')\n",
    "        file.write(f'module avail\\n')\n",
    "        file.write(f'module purge\\n')\n",
    "        file.write(f'export OMPI_MCA_btl=^vader,tcp,openib\\n')\n",
    "        file.write(f'module load mcstas/3.4\\n')\n",
    "        file.write(f'module load gcc/10.2.0\\n')\n",
    "        file.write(f'module load openmpi/4.0_gcc1020\\n')\n",
    "        file.write(f'\\n')\n",
    "        file.write(f'### Set up mcrun line\\n')\n",
    "        file.write(f'\\n')\n",
    "        file.write(f'mcrun -c --mpi=$NUMCORES backend_Pb_1t.instr -d {filename_prefix}_{value1}_{value2}  A4={value1}  A3={value2}\\n')\n",
    "\n",
    "\n",
    "\n",
    "\n",
    "# Example usage\n",
    "output_folder = 'Phonon_Pb_v1'\n",
    "A4 = [60,65]\n",
    "A3 = np.arange(10, 100, 0.5, dtype='float')  # Example list of values for value2\n",
    "\n",
    "# Create the output folder if it doesn't exist\n",
    "os.makedirs(output_folder, exist_ok=True)\n",
    "\n",
    "# Generate batch files for all combinations of values1 and values2\n",
    "for v1 in A4:\n",
    "    for v2 in A3:\n",
    "        #print(v1,v2)\n",
    "        write_batch_file(output_folder, 'Phonon_Pb_v1', v1, v2)\n"
   ]
  },
  {
   "cell_type": "markdown",
   "metadata": {},
   "source": [
    "# Make the .sh script which will call all the .batch scripts on the cluster"
   ]
  },
  {
   "cell_type": "code",
   "execution_count": 3,
   "metadata": {},
   "outputs": [],
   "source": [
    "def append_file_names(folder):\n",
    "    # Get list of files in the folder\n",
    "    file_names = os.listdir(folder)\n",
    "    \n",
    "    # Construct the output file path\n",
    "    output_file_path = os.path.join(folder, 'one_script_to_rule_them_all.sh')\n",
    "    \n",
    "    # Open the output file and write the specific first line\n",
    "    with open(output_file_path, 'w') as output:  # Use 'w' mode to overwrite the file\n",
    "        output.write(\"#!/bin/bash\\n\")\n",
    "    \n",
    "    # Get list of files in the folder\n",
    "    file_names = os.listdir(folder)\n",
    "\n",
    "    # Append file names to the output file\n",
    "    with open(output_file_path, 'a') as output:\n",
    "        for file_name in file_names:\n",
    "            if file_name != 'one_script_to_rule_them_all.sh':  # Exclude the output file itself\n",
    "                output.write(f'sbatch {file_name}\\n')\n",
    "\n",
    "# Call the function to append file names to the output file\n",
    "append_file_names(output_folder)"
   ]
  },
  {
   "cell_type": "code",
   "execution_count": null,
   "metadata": {},
   "outputs": [],
   "source": []
  }
 ],
 "metadata": {
  "kernelspec": {
   "display_name": "base",
   "language": "python",
   "name": "python3"
  },
  "language_info": {
   "codemirror_mode": {
    "name": "ipython",
    "version": 3
   },
   "file_extension": ".py",
   "mimetype": "text/x-python",
   "name": "python",
   "nbconvert_exporter": "python",
   "pygments_lexer": "ipython3",
   "version": "3.9.18"
  }
 },
 "nbformat": 4,
 "nbformat_minor": 2
}
